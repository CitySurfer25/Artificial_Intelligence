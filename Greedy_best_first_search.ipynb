{
 "cells": [
  {
   "cell_type": "code",
   "execution_count": 1,
   "id": "0d9c780a",
   "metadata": {},
   "outputs": [],
   "source": [
    "import heapq"
   ]
  },
  {
   "cell_type": "code",
   "execution_count": 3,
   "id": "a6202556",
   "metadata": {},
   "outputs": [],
   "source": [
    "class Node:\n",
    "    def __init__(self, name, heuristic):\n",
    "        self.name = name\n",
    "        self.heuristic = heuristic\n",
    "        self.adjacents = []\n",
    "\n",
    "    def add_edge(self, neighbor, cost):\n",
    "        self.adjacents.append((neighbor, cost))\n"
   ]
  },
  {
   "cell_type": "code",
   "execution_count": 4,
   "id": "821a4ec6",
   "metadata": {},
   "outputs": [],
   "source": [
    "\n",
    "class Graph:\n",
    "    def __init__(self):\n",
    "        self.nodes = {}\n",
    "\n",
    "    def add_node(self, name, heuristic):\n",
    "        self.nodes[name] = Node(name, heuristic)\n",
    "\n",
    "    def add_edge(self, from_node, to_node, cost):\n",
    "        self.nodes[from_node].add_edge(self.nodes[to_node], cost)"
   ]
  },
  {
   "cell_type": "code",
   "execution_count": 6,
   "id": "633ac662",
   "metadata": {},
   "outputs": [],
   "source": [
    "def greedy_best_first_search(graph, start, goal):\n",
    "    open_list = []\n",
    "    heapq.heappush(open_list, (graph.nodes[start].heuristic, start, 0))\n",
    "    came_from = {start: None}\n",
    "    cost_so_far = {start: 0}\n",
    "\n",
    "    while open_list:\n",
    "        _, current, current_cost = heapq.heappop(open_list)\n",
    "\n",
    "        if current == goal:\n",
    "            path = []\n",
    "            while current:\n",
    "                path.append(current)\n",
    "                current = came_from[current]\n",
    "            return path[::-1], current_cost\n",
    "\n",
    "        for neighbor, cost in graph.nodes[current].adjacents:\n",
    "            new_cost = current_cost + cost\n",
    "            if neighbor.name not in cost_so_far or new_cost < cost_so_far[neighbor.name]:\n",
    "                cost_so_far[neighbor.name] = new_cost\n",
    "                came_from[neighbor.name] = current\n",
    "                heapq.heappush(open_list, (neighbor.heuristic, neighbor.name, new_cost))\n",
    "\n",
    "    return None, None\n"
   ]
  },
  {
   "cell_type": "code",
   "execution_count": 7,
   "id": "2fae0127",
   "metadata": {},
   "outputs": [],
   "source": [
    "graph = Graph()\n",
    "heuristics = {\n",
    "    'S': 13, 'A': 12, 'B': 4, 'C': 7, 'D': 3, 'E': 8, 'F': 2,\n",
    "    'H': 4, 'I': 9, 'G': 0\n",
    "}\n"
   ]
  },
  {
   "cell_type": "code",
   "execution_count": 8,
   "id": "b96c7966",
   "metadata": {},
   "outputs": [],
   "source": [
    "for node, h in heuristics.items():\n",
    "    graph.add_node(node, h)"
   ]
  },
  {
   "cell_type": "code",
   "execution_count": 9,
   "id": "47d0ae56",
   "metadata": {},
   "outputs": [
    {
     "name": "stdout",
     "output_type": "stream",
     "text": [
      "<__main__.Graph object at 0x00000289F4C5D3D0>\n"
     ]
    }
   ],
   "source": [
    "print(graph)"
   ]
  },
  {
   "cell_type": "code",
   "execution_count": 10,
   "id": "25e0f006",
   "metadata": {},
   "outputs": [],
   "source": [
    "\n",
    "edges = [\n",
    "    ('S', 'A', 3), ('S', 'B', 2), ('A', 'C', 4), ('A', 'D', 1),\n",
    "    ('B', 'E', 3), ('B', 'F', 1), ('E', 'H', 5), ('F', 'I', 2), ('F', 'G', 3)\n",
    "]"
   ]
  },
  {
   "cell_type": "code",
   "execution_count": 12,
   "id": "6f9108e2",
   "metadata": {},
   "outputs": [],
   "source": [
    "for from_node, to_node, cost in edges:\n",
    "    graph.add_edge(from_node, to_node, cost)"
   ]
  },
  {
   "cell_type": "code",
   "execution_count": 13,
   "id": "f5b3f687",
   "metadata": {},
   "outputs": [],
   "source": [
    "start_node = 'S'\n",
    "goal_node = 'G'\n",
    "path, total_cost = greedy_best_first_search(graph, start_node, goal_node)"
   ]
  },
  {
   "cell_type": "code",
   "execution_count": 14,
   "id": "c0d4efbf",
   "metadata": {},
   "outputs": [
    {
     "name": "stdout",
     "output_type": "stream",
     "text": [
      "Path found: S -> B -> F -> G\n",
      "Total path cost: 6\n"
     ]
    }
   ],
   "source": [
    "if path:\n",
    "    print(\"Path found:\", \" -> \".join(path))\n",
    "    print(\"Total path cost:\", total_cost)\n",
    "else:\n",
    "    print(\"No path found.\")"
   ]
  },
  {
   "cell_type": "code",
   "execution_count": null,
   "id": "97f1b56a",
   "metadata": {},
   "outputs": [],
   "source": []
  }
 ],
 "metadata": {
  "kernelspec": {
   "display_name": "Python 3 (ipykernel)",
   "language": "python",
   "name": "python3"
  },
  "language_info": {
   "codemirror_mode": {
    "name": "ipython",
    "version": 3
   },
   "file_extension": ".py",
   "mimetype": "text/x-python",
   "name": "python",
   "nbconvert_exporter": "python",
   "pygments_lexer": "ipython3",
   "version": "3.11.4"
  }
 },
 "nbformat": 4,
 "nbformat_minor": 5
}
