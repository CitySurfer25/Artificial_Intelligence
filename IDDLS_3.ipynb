{
  "nbformat": 4,
  "nbformat_minor": 0,
  "metadata": {
    "colab": {
      "provenance": []
    },
    "kernelspec": {
      "name": "python3",
      "display_name": "Python 3"
    },
    "language_info": {
      "name": "python"
    }
  },
  "cells": [
    {
      "cell_type": "code",
      "source": [
        "import random\n",
        "\n",
        "def generate_random_puzzle():\n",
        "    tiles = list(range(9))\n",
        "    random.shuffle(tiles)\n",
        "    return tuple(tiles)\n",
        "\n",
        "def print_puzzle(puzzle):\n",
        "    for i in range(3):\n",
        "        for j in range(3):\n",
        "            tile = puzzle[i*3 + j]\n",
        "            if tile == 0:\n",
        "                print(\" \", end=\" \")\n",
        "            else:\n",
        "                print(tile, end=\" \")\n",
        "        print()\n",
        "\n",
        "\n",
        "random_puzzle = generate_random_puzzle()\n",
        "print(\"Random 8-Puzzle State:\")\n",
        "print_puzzle(random_puzzle)"
      ],
      "metadata": {
        "colab": {
          "base_uri": "https://localhost:8080/"
        },
        "id": "SPjqhffqPswN",
        "outputId": "8fca0e67-9c72-41cb-b473-40463ee8f180"
      },
      "execution_count": 6,
      "outputs": [
        {
          "output_type": "stream",
          "name": "stdout",
          "text": [
            "Random 8-Puzzle State:\n",
            "1 5 3 \n",
            "6 2 8 \n",
            "4   7 \n"
          ]
        }
      ]
    },
    {
      "cell_type": "code",
      "source": [
        "import random\n",
        "\n",
        "\n",
        "DIRECTIONS = {\n",
        "    'UP': -3,\n",
        "    'DOWN': 3,\n",
        "    'LEFT': -1,\n",
        "    'RIGHT': 1\n",
        "}\n",
        "\n",
        "\n",
        "ACTIONS = {\n",
        "    0: ['DOWN', 'RIGHT'],\n",
        "    1: ['LEFT', 'DOWN', 'RIGHT'],\n",
        "    2: ['LEFT', 'DOWN'],\n",
        "    3: ['UP', 'DOWN', 'RIGHT'],\n",
        "    4: ['UP', 'LEFT', 'DOWN', 'RIGHT'],\n",
        "    5: ['UP', 'LEFT', 'DOWN'],\n",
        "    6: ['UP', 'RIGHT'],\n",
        "    7: ['UP', 'LEFT', 'RIGHT'],\n",
        "    8: ['UP', 'LEFT']\n",
        "}\n",
        "\n",
        "\n",
        "GOAL_STATE = (1, 2, 3, 4, 5, 6, 7, 8, 0)\n",
        "\n",
        "def actions(state):\n",
        "\n",
        "    blank_index = state.index(0)\n",
        "    return ACTIONS[blank_index]\n",
        "\n",
        "def result(state, action):\n",
        "\n",
        "    blank_index = state.index(0)\n",
        "    new_index = blank_index + DIRECTIONS[action]\n",
        "    new_state = list(state)\n",
        "    new_state[blank_index], new_state[new_index] = new_state[new_index], new_state[blank_index]\n",
        "    return tuple(new_state)\n",
        "\n",
        "def is_goal(state):\n",
        "\n",
        "    return state == GOAL_STATE\n",
        "\n",
        "def depth_limited_search(initial_state, limit):\n",
        "\n",
        "    visited = set()\n",
        "    stack = [(initial_state, [], 0)]\n",
        "\n",
        "    while stack:\n",
        "        state, path, depth = stack.pop()\n",
        "        visited.add(state)\n",
        "\n",
        "        if is_goal(state):\n",
        "            return path, state\n",
        "\n",
        "        if depth < limit:\n",
        "            for action in actions(state):\n",
        "                new_state = result(state, action)\n",
        "                if new_state not in visited:\n",
        "                    stack.append((new_state, path + [action], depth + 1))\n",
        "\n",
        "    return None, None\n",
        "\n",
        "def iterative_deepening_search(initial_state):\n",
        "\n",
        "    depth_limit = 0\n",
        "    while True:\n",
        "        solution, goal_state = depth_limited_search(initial_state, depth_limit)\n",
        "        if solution is not None:\n",
        "            return solution, goal_state\n",
        "        depth_limit += 1\n",
        "\n",
        "def print_puzzle(state):\n",
        "\n",
        "    for i in range(3):\n",
        "        print(state[i*3:i*3+3])\n",
        "\n",
        "\n",
        "initial_state = random_puzzle\n",
        "solution, goal_state = iterative_deepening_search(initial_state)\n",
        "\n",
        "if solution:\n",
        "    print(\"Solution found:\")\n",
        "    print(\"Initial state:\")\n",
        "    print_puzzle(initial_state)\n",
        "    print(\"Solution steps:\")\n",
        "    for step in solution:\n",
        "        print(f\"Move {step}\")\n",
        "    print(\"Goal state:\")\n",
        "    print_puzzle(goal_state)\n",
        "else:\n",
        "    print(\"Solution not found.\")\n"
      ],
      "metadata": {
        "colab": {
          "base_uri": "https://localhost:8080/"
        },
        "id": "FL7sfOK_P2xn",
        "outputId": "07f9c5f9-4b46-406e-9aec-837886e3d321"
      },
      "execution_count": 11,
      "outputs": [
        {
          "output_type": "stream",
          "name": "stdout",
          "text": [
            "Solution found:\n",
            "Initial state:\n",
            "(1, 5, 3)\n",
            "(6, 2, 8)\n",
            "(4, 0, 7)\n",
            "Solution steps:\n",
            "Move RIGHT\n",
            "Move UP\n",
            "Move LEFT\n",
            "Move LEFT\n",
            "Move DOWN\n",
            "Move RIGHT\n",
            "Move RIGHT\n",
            "Move UP\n",
            "Move UP\n",
            "Move LEFT\n",
            "Move DOWN\n",
            "Move RIGHT\n",
            "Move UP\n",
            "Move LEFT\n",
            "Move DOWN\n",
            "Move RIGHT\n",
            "Move DOWN\n",
            "Move LEFT\n",
            "Move UP\n",
            "Move RIGHT\n",
            "Move UP\n",
            "Move LEFT\n",
            "Move DOWN\n",
            "Move DOWN\n",
            "Move RIGHT\n",
            "Goal state:\n",
            "(1, 2, 3)\n",
            "(4, 5, 6)\n",
            "(7, 8, 0)\n"
          ]
        }
      ]
    },
    {
      "cell_type": "code",
      "source": [],
      "metadata": {
        "id": "b7tzxcFzTGog"
      },
      "execution_count": null,
      "outputs": []
    }
  ]
}