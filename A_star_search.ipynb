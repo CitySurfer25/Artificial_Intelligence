{
 "cells": [
  {
   "cell_type": "code",
   "execution_count": 3,
   "id": "1aee34cf",
   "metadata": {},
   "outputs": [],
   "source": [
    "import heapq"
   ]
  },
  {
   "cell_type": "code",
   "execution_count": 4,
   "id": "39bcf1bc",
   "metadata": {},
   "outputs": [],
   "source": [
    "graph = {\n",
    "    'S': [('A', 3), ('B', 2)],\n",
    "    'A': [('C', 4), ('D', 1)],\n",
    "    'B': [('E', 3), ('F', 1)],\n",
    "    'C': [],\n",
    "    'D': [],\n",
    "    'E': [('H', 5)],\n",
    "    'F': [('I', 2), ('G', 3)],\n",
    "    'H': [],\n",
    "    'I': [],\n",
    "    'G': []\n",
    "}"
   ]
  },
  {
   "cell_type": "code",
   "execution_count": 5,
   "id": "85f85841",
   "metadata": {},
   "outputs": [],
   "source": [
    "heuristic = {\n",
    "    'S': 13,\n",
    "    'A': 12,\n",
    "    'B': 4,\n",
    "    'C': 7,\n",
    "    'D': 3,\n",
    "    'E': 8,\n",
    "    'F': 2,\n",
    "    'H': 4,\n",
    "    'I': 9,\n",
    "    'G': 0\n",
    "}\n"
   ]
  },
  {
   "cell_type": "code",
   "execution_count": 8,
   "id": "be0b5cb9",
   "metadata": {},
   "outputs": [],
   "source": [
    "def a_star_search(start, goal):\n",
    "    \n",
    "    pq = [(heuristic[start], 0, start, [])]\n",
    "    visited = set()\n",
    "\n",
    "    while pq:\n",
    "        \n",
    "        f, g, node, path = heapq.heappop(pq)\n",
    "\n",
    "        if node in visited:\n",
    "            continue\n",
    "\n",
    "        \n",
    "        path = path + [node]\n",
    "        visited.add(node)\n",
    "\n",
    "        \n",
    "        if node == goal:\n",
    "            return path, g\n",
    "\n",
    "        \n",
    "        for neighbor, cost in graph[node]:\n",
    "            if neighbor not in visited:\n",
    "                g_new = g + cost  \n",
    "                f_new = g_new + heuristic[neighbor]\n",
    "                heapq.heappush(pq, (f_new, g_new, neighbor, path))\n",
    "\n",
    "    return None, float('inf') "
   ]
  },
  {
   "cell_type": "code",
   "execution_count": 9,
   "id": "d0574a0f",
   "metadata": {},
   "outputs": [
    {
     "name": "stdout",
     "output_type": "stream",
     "text": [
      "Path found by A* search: ['S', 'B', 'F', 'G']\n",
      "Total cost: 6\n"
     ]
    }
   ],
   "source": [
    "start_node = 'S'\n",
    "goal_node = 'G'\n",
    "path, total_cost = a_star_search(start_node, goal_node)\n",
    "\n",
    "print(\"Path found by A* search:\", path)\n",
    "print(\"Total cost:\", total_cost)"
   ]
  },
  {
   "cell_type": "code",
   "execution_count": null,
   "id": "10446d3c",
   "metadata": {},
   "outputs": [],
   "source": []
  }
 ],
 "metadata": {
  "kernelspec": {
   "display_name": "Python 3 (ipykernel)",
   "language": "python",
   "name": "python3"
  },
  "language_info": {
   "codemirror_mode": {
    "name": "ipython",
    "version": 3
   },
   "file_extension": ".py",
   "mimetype": "text/x-python",
   "name": "python",
   "nbconvert_exporter": "python",
   "pygments_lexer": "ipython3",
   "version": "3.11.4"
  }
 },
 "nbformat": 4,
 "nbformat_minor": 5
}
