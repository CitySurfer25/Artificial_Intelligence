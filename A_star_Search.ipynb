{
 "cells": [
  {
   "cell_type": "code",
   "execution_count": 22,
   "id": "9638ddd7",
   "metadata": {},
   "outputs": [],
   "source": [
    "class Node:\n",
    "    def __init__(self, name, parent=None, g=0, h=0):\n",
    "        self.name = name\n",
    "        self.parent = parent\n",
    "        self.g = g\n",
    "        self.h = h\n",
    "        self.f = g + h\n"
   ]
  },
  {
   "cell_type": "code",
   "execution_count": 23,
   "id": "dc85f6af",
   "metadata": {},
   "outputs": [],
   "source": [
    "def get_path_and_cost(node):\n",
    "    path = []\n",
    "    total_cost = node.g\n",
    "    while node is not None:\n",
    "        path.append(node.name)\n",
    "        node = node.parent\n",
    "    return path[::-1], total_cost"
   ]
  },
  {
   "cell_type": "code",
   "execution_count": 24,
   "id": "3804d565",
   "metadata": {},
   "outputs": [],
   "source": [
    "\n",
    "def a_star_stack(graph, heuristics, start, goal):\n",
    "    stack = []\n",
    "    start_node = Node(start, None, 0, heuristics[start])\n",
    "    stack.append(start_node)\n",
    "\n",
    "    visited = set()\n",
    "    best_g_score = {node: float('inf') for node in graph}\n",
    "    best_g_score[start] = 0\n",
    "\n",
    "    while stack:\n",
    "        \n",
    "        current = min(stack, key=lambda node: node.f)\n",
    "        stack.remove(current)\n",
    "\n",
    "        if current.name == goal:\n",
    "            return get_path_and_cost(current)\n",
    "\n",
    "        visited.add(current.name)\n",
    "\n",
    "        for neighbor, cost in graph[current.name].items():\n",
    "            if neighbor in visited:\n",
    "                continue\n",
    "\n",
    "            tentative_g = current.g + cost\n",
    "\n",
    "            if tentative_g < best_g_score[neighbor]:\n",
    "                neighbor_node = Node(neighbor, current, tentative_g, heuristics[neighbor])\n",
    "                best_g_score[neighbor] = tentative_g\n",
    "                stack.append(neighbor_node)\n",
    "\n",
    "    return [], float('inf')  "
   ]
  },
  {
   "cell_type": "code",
   "execution_count": 25,
   "id": "93a657bf",
   "metadata": {},
   "outputs": [],
   "source": [
    "graph = {\n",
    "    'Arad': {'Zerind': 75, 'Sibiu': 140, 'Timisoara': 118},\n",
    "    'Zerind': {'Arad': 75, 'Oradea': 71},\n",
    "    'Oradea': {'Zerind': 71, 'Sibiu': 151},\n",
    "    'Sibiu': {'Arad': 140, 'Oradea': 151, 'Fagaras': 99, 'Rimnicu Vilcea': 80},\n",
    "    'Timisoara': {'Arad': 118, 'Lugoj': 111},\n",
    "    'Lugoj': {'Timisoara': 111, 'Mehadia': 70},\n",
    "    'Mehadia': {'Lugoj': 70, 'Drobeta': 75},\n",
    "    'Drobeta': {'Mehadia': 75, 'Craiova': 120},\n",
    "    'Craiova': {'Drobeta': 120, 'Rimnicu Vilcea': 146, 'Pitesti': 138},\n",
    "    'Rimnicu Vilcea': {'Sibiu': 80, 'Craiova': 146, 'Pitesti': 97},\n",
    "    'Fagaras': {'Sibiu': 99, 'Bucharest': 211},\n",
    "    'Pitesti': {'Rimnicu Vilcea': 97, 'Craiova': 138, 'Bucharest': 101},\n",
    "    'Bucharest': {'Fagaras': 211, 'Pitesti': 101, 'Giurgiu': 90},\n",
    "    'Giurgiu': {'Bucharest': 90}\n",
    "}"
   ]
  },
  {
   "cell_type": "code",
   "execution_count": 26,
   "id": "c43abde8",
   "metadata": {},
   "outputs": [],
   "source": [
    "heuristics = {\n",
    "    'Arad': 366, 'Zerind': 374, 'Oradea': 380, 'Sibiu': 253, 'Timisoara': 329,\n",
    "    'Lugoj': 244, 'Mehadia': 241, 'Drobeta': 242, 'Craiova': 160, 'Rimnicu Vilcea': 193,\n",
    "    'Fagaras': 176, 'Pitesti': 100, 'Bucharest': 0, 'Giurgiu': 77\n",
    "}\n"
   ]
  },
  {
   "cell_type": "code",
   "execution_count": 27,
   "id": "ce4a4fb5",
   "metadata": {},
   "outputs": [
    {
     "name": "stdout",
     "output_type": "stream",
     "text": [
      "Path from Arad to Bucharest: ['Arad', 'Sibiu', 'Rimnicu Vilcea', 'Pitesti', 'Bucharest']\n",
      "Total path cost: 418\n"
     ]
    }
   ],
   "source": [
    "start_node = 'Arad'\n",
    "goal_node = 'Bucharest'\n",
    "path, cost = a_star_stack(graph, heuristics, start_node, goal_node)\n",
    "print(f\"Path from {start_node} to {goal_node}: {path}\")\n",
    "print(f\"Total path cost: {cost}\")"
   ]
  },
  {
   "cell_type": "code",
   "execution_count": null,
   "id": "8f0777e6",
   "metadata": {},
   "outputs": [],
   "source": []
  }
 ],
 "metadata": {
  "kernelspec": {
   "display_name": "Python 3 (ipykernel)",
   "language": "python",
   "name": "python3"
  },
  "language_info": {
   "codemirror_mode": {
    "name": "ipython",
    "version": 3
   },
   "file_extension": ".py",
   "mimetype": "text/x-python",
   "name": "python",
   "nbconvert_exporter": "python",
   "pygments_lexer": "ipython3",
   "version": "3.11.4"
  }
 },
 "nbformat": 4,
 "nbformat_minor": 5
}
