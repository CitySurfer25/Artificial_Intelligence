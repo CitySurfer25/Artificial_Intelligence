{
 "cells": [
  {
   "cell_type": "code",
   "execution_count": 1,
   "id": "e036424d",
   "metadata": {},
   "outputs": [],
   "source": [
    "adjacency_list = {\n",
    "    'WA': ['NT', 'SA'],\n",
    "    'NT': ['WA', 'SA', 'Q'],\n",
    "    'SA': ['WA', 'NT', 'Q', 'NSW', 'V'],\n",
    "    'Q': ['NT', 'SA', 'NSW'],\n",
    "    'NSW': ['Q', 'SA', 'V'],\n",
    "    'V': ['SA', 'NSW'],\n",
    "    'T': []  \n",
    "}"
   ]
  },
  {
   "cell_type": "code",
   "execution_count": 2,
   "id": "b9b42eb1",
   "metadata": {},
   "outputs": [],
   "source": [
    "colors = ['Red', 'Green', 'Blue']"
   ]
  },
  {
   "cell_type": "code",
   "execution_count": 3,
   "id": "bc8c7761",
   "metadata": {},
   "outputs": [],
   "source": [
    "def is_valid(state, color, color_assignment):\n",
    "    for neighbor in adjacency_list[state]:\n",
    "        if color_assignment.get(neighbor) == color:\n",
    "            return False\n",
    "    return True"
   ]
  },
  {
   "cell_type": "code",
   "execution_count": 4,
   "id": "41f7bbd4",
   "metadata": {},
   "outputs": [],
   "source": [
    "def color_map(state_list, color_assignment):\n",
    "    \n",
    "    if len(color_assignment) == len(state_list):\n",
    "        return True\n",
    "    \n",
    "    \n",
    "    state = state_list[len(color_assignment)]\n",
    "    \n",
    "    \n",
    "    for color in colors:\n",
    "        if is_valid(state, color, color_assignment):\n",
    "            \n",
    "            color_assignment[state] = color\n",
    "            \n",
    "            \n",
    "            if color_map(state_list, color_assignment):\n",
    "                return True\n",
    "            \n",
    "            \n",
    "            del color_assignment[state]\n",
    "    \n",
    "    return False"
   ]
  },
  {
   "cell_type": "code",
   "execution_count": 6,
   "id": "74bcb01b",
   "metadata": {},
   "outputs": [],
   "source": [
    "def solve_map_coloring():\n",
    "    state_list = list(adjacency_list.keys())\n",
    "    color_assignment = {}\n",
    "    \n",
    "    if color_map(state_list, color_assignment):\n",
    "        return color_assignment\n",
    "    else:\n",
    "        return \"No solution\""
   ]
  },
  {
   "cell_type": "code",
   "execution_count": 7,
   "id": "c3b9f8e5",
   "metadata": {},
   "outputs": [],
   "source": [
    "solution = solve_map_coloring()"
   ]
  },
  {
   "cell_type": "code",
   "execution_count": 8,
   "id": "4bff20ab",
   "metadata": {},
   "outputs": [
    {
     "name": "stdout",
     "output_type": "stream",
     "text": [
      "Coloring of the Australian map:\n",
      "WA: Red\n",
      "NT: Green\n",
      "SA: Blue\n",
      "Q: Red\n",
      "NSW: Green\n",
      "V: Red\n",
      "T: Red\n"
     ]
    }
   ],
   "source": [
    "print(\"Coloring of the Australian map:\")\n",
    "for state, color in solution.items():\n",
    "    print(f\"{state}: {color}\")"
   ]
  },
  {
   "cell_type": "code",
   "execution_count": null,
   "id": "c528eaa6",
   "metadata": {},
   "outputs": [],
   "source": []
  }
 ],
 "metadata": {
  "kernelspec": {
   "display_name": "Python 3 (ipykernel)",
   "language": "python",
   "name": "python3"
  },
  "language_info": {
   "codemirror_mode": {
    "name": "ipython",
    "version": 3
   },
   "file_extension": ".py",
   "mimetype": "text/x-python",
   "name": "python",
   "nbconvert_exporter": "python",
   "pygments_lexer": "ipython3",
   "version": "3.11.4"
  }
 },
 "nbformat": 4,
 "nbformat_minor": 5
}
