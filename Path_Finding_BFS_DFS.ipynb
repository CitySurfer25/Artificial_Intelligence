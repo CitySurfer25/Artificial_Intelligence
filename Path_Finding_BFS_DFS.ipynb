{
  "nbformat": 4,
  "nbformat_minor": 0,
  "metadata": {
    "colab": {
      "provenance": []
    },
    "kernelspec": {
      "name": "python3",
      "display_name": "Python 3"
    },
    "language_info": {
      "name": "python"
    }
  },
  "cells": [
    {
      "cell_type": "code",
      "execution_count": 6,
      "metadata": {
        "colab": {
          "base_uri": "https://localhost:8080/"
        },
        "id": "5x0kGBuRQBMI",
        "outputId": "993ada40-124f-4f2e-b22e-ba6a80cc3bdb"
      },
      "outputs": [
        {
          "output_type": "stream",
          "name": "stdout",
          "text": [
            "Path found: ['1', '2', '5', '8', '10']\n"
          ]
        }
      ],
      "source": [
        "from collections import deque\n",
        "\n",
        "def bfs_pathfinding(graph, start, goal):\n",
        "    queue = deque([start])\n",
        "    visited = set()\n",
        "    parent = {start: None}\n",
        "\n",
        "    while queue:\n",
        "        current = queue.popleft()\n",
        "\n",
        "        if current == goal:\n",
        "\n",
        "            path = []\n",
        "            while current is not None:\n",
        "                path.append(current)\n",
        "                current = parent[current]\n",
        "            path.reverse()\n",
        "            return path\n",
        "\n",
        "        visited.add(current)\n",
        "\n",
        "        for neighbor in graph[current]:\n",
        "            if neighbor not in visited and neighbor not in queue:\n",
        "                queue.append(neighbor)\n",
        "                parent[neighbor] = current\n",
        "\n",
        "    return None\n",
        "\n",
        "\n",
        "graph = {\n",
        "    '1': ['2', '3'],\n",
        "    '2': ['1', '4', '5'],\n",
        "    '3': ['1', '6', '7'],\n",
        "    '4': ['2'],\n",
        "    '5': ['2', '8'],\n",
        "    '6': ['3'],\n",
        "    '7': ['3', '9'],\n",
        "    '8': ['5', '10'],\n",
        "    '9': ['7', '10'],\n",
        "    '10': ['8', '9']\n",
        "}\n",
        "\n",
        "start_node = '1'\n",
        "goal_node = '10'\n",
        "\n",
        "path = bfs_pathfinding(graph, start_node, goal_node)\n",
        "\n",
        "if path:\n",
        "    print(\"Path found:\", path)\n",
        "else:\n",
        "    print(\"No path found\")\n"
      ]
    },
    {
      "cell_type": "code",
      "source": [
        "graph = {'A': set(['B', 'C']),\n",
        "         'B': set(['A', 'D', 'E']),\n",
        "         'C': set(['A', 'F']),\n",
        "         'D': set(['B']),\n",
        "         'E': set(['B', 'F']),\n",
        "         'F': set(['C', 'E'])}\n",
        "\n",
        "def dfs_paths(graph, start, goal):\n",
        "    stack = [(start, [start])]\n",
        "    visited = set()\n",
        "    while stack:\n",
        "        (vertex, path) = stack.pop()\n",
        "        if vertex not in visited:\n",
        "            if vertex == goal:\n",
        "                return path\n",
        "            visited.add(vertex)\n",
        "            for neighbor in graph[vertex]:\n",
        "                stack.append((neighbor, path + [neighbor]))\n",
        "\n",
        "print (dfs_paths(graph, 'A', 'F'))"
      ],
      "metadata": {
        "colab": {
          "base_uri": "https://localhost:8080/"
        },
        "id": "_zZss-XtQDol",
        "outputId": "2cb7e12c-9fab-46d6-fe20-15d2c287ddce"
      },
      "execution_count": 4,
      "outputs": [
        {
          "output_type": "stream",
          "name": "stdout",
          "text": [
            "['A', 'C', 'F']\n"
          ]
        }
      ]
    },
    {
      "cell_type": "code",
      "source": [],
      "metadata": {
        "id": "sO-gU9aRQJXe"
      },
      "execution_count": 3,
      "outputs": []
    }
  ]
}