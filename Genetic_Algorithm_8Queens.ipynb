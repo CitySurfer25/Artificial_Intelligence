{
 "cells": [
  {
   "cell_type": "code",
   "execution_count": 1,
   "id": "b5ec7b41",
   "metadata": {},
   "outputs": [],
   "source": [
    "import random"
   ]
  },
  {
   "cell_type": "code",
   "execution_count": 2,
   "id": "7511f54a",
   "metadata": {},
   "outputs": [],
   "source": [
    "\n",
    "def generate_chromosome():\n",
    "    \n",
    "    return [random.randint(0, 7) for _ in range(8)]\n"
   ]
  },
  {
   "cell_type": "code",
   "execution_count": 3,
   "id": "2ed838a2",
   "metadata": {},
   "outputs": [],
   "source": [
    "def fitness(chromosome):\n",
    "   \n",
    "    non_attacking = 28  \n",
    "    for i in range(8):\n",
    "        for j in range(i + 1, 8):\n",
    "            if chromosome[i] == chromosome[j] or abs(chromosome[i] - chromosome[j]) == j - i:\n",
    "                non_attacking -= 1\n",
    "    return non_attacking"
   ]
  },
  {
   "cell_type": "code",
   "execution_count": 4,
   "id": "97a4d24e",
   "metadata": {},
   "outputs": [],
   "source": [
    "def selection(population, fitnesses):\n",
    "    \n",
    "    tournament_size = 3\n",
    "    selected_parents = []\n",
    "    for _ in range(2):\n",
    "        tournament = random.sample(list(zip(population, fitnesses)), tournament_size)\n",
    "        selected_parents.append(max(tournament, key=lambda x: x[1])[0])\n",
    "    return selected_parents"
   ]
  },
  {
   "cell_type": "code",
   "execution_count": 5,
   "id": "e567b25d",
   "metadata": {},
   "outputs": [],
   "source": [
    "\n",
    "def crossover(parent1, parent2):\n",
    "   \n",
    "    point = random.randint(1, 7)\n",
    "    return parent1[:point] + parent2[point:], parent2[:point] + parent1[point:]"
   ]
  },
  {
   "cell_type": "code",
   "execution_count": 6,
   "id": "c16e0bf2",
   "metadata": {},
   "outputs": [],
   "source": [
    "def mutate(chromosome):\n",
    "    \n",
    "    index = random.randint(0, 7)\n",
    "    new_value = random.randint(0, 7)\n",
    "    chromosome[index] = new_value\n",
    "    return chromosome"
   ]
  },
  {
   "cell_type": "code",
   "execution_count": 21,
   "id": "4bded6a6",
   "metadata": {},
   "outputs": [],
   "source": [
    "\n",
    "def genetic_algorithm():\n",
    "    population_size = 100\n",
    "    generations = 1000\n",
    "    mutation_rate = 0.1\n",
    "    \n",
    "    \n",
    "    population = [generate_chromosome() for _ in range(population_size)]\n",
    "    \n",
    "    for generation in range(generations):\n",
    "        \n",
    "        fitnesses = [fitness(chromosome) for chromosome in population]\n",
    "        \n",
    "        \n",
    "        if max(fitnesses) == 28:\n",
    "            solution = population[fitnesses.index(28)]\n",
    "            return solution, generation\n",
    "        \n",
    "        new_population = []\n",
    "        while len(new_population) < population_size:\n",
    "            \n",
    "            parent1, parent2 = selection(population, fitnesses)\n",
    "            \n",
    "            \n",
    "            offspring1, offspring2 = crossover(parent1, parent2)\n",
    "            \n",
    "            \n",
    "            if random.random() < mutation_rate:\n",
    "                offspring1 = mutate(offspring1)\n",
    "            if random.random() < mutation_rate:\n",
    "                offspring2 = mutate(offspring2)\n",
    "            \n",
    "            new_population.append(offspring1)\n",
    "            new_population.append(offspring2)\n",
    "        \n",
    "        population = new_population\n",
    "    \n",
    "    \n",
    "    best_solution = max(zip(population, fitnesses), key=lambda x: x[1])[0]\n",
    "    return best_solution, generations\n"
   ]
  },
  {
   "cell_type": "code",
   "execution_count": 22,
   "id": "4f36d813",
   "metadata": {},
   "outputs": [
    {
     "name": "stdout",
     "output_type": "stream",
     "text": [
      "Solution found in generation 1000: [4, 2, 5, 6, 1, 3, 0, 7]\n"
     ]
    }
   ],
   "source": [
    "solution, generation = genetic_algorithm()\n",
    "print(f\"Solution found in generation {generation}: {solution}\")"
   ]
  },
  {
   "cell_type": "code",
   "execution_count": null,
   "id": "7eb3a617",
   "metadata": {},
   "outputs": [],
   "source": []
  }
 ],
 "metadata": {
  "kernelspec": {
   "display_name": "Python 3 (ipykernel)",
   "language": "python",
   "name": "python3"
  },
  "language_info": {
   "codemirror_mode": {
    "name": "ipython",
    "version": 3
   },
   "file_extension": ".py",
   "mimetype": "text/x-python",
   "name": "python",
   "nbconvert_exporter": "python",
   "pygments_lexer": "ipython3",
   "version": "3.11.4"
  }
 },
 "nbformat": 4,
 "nbformat_minor": 5
}
